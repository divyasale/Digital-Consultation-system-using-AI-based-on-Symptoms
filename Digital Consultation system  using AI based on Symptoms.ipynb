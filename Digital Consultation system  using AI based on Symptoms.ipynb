{
 "cells": [
  {
   "cell_type": "markdown",
   "id": "8e78ab6e",
   "metadata": {},
   "source": [
    "## Import Required Libraries"
   ]
  },
  {
   "cell_type": "code",
   "execution_count": 2,
   "id": "7ca5646c",
   "metadata": {},
   "outputs": [],
   "source": [
    "import numpy as np\n",
    "import pandas as pd\n",
    "from matplotlib import pyplot as plt\n",
    "from scipy.stats import mode\n",
    "import seaborn as sns\n",
    "from sklearn.preprocessing import LabelEncoder\n",
    "from sklearn.model_selection import train_test_split\n",
    "from sklearn.svm import SVC\n",
    "from sklearn.metrics import accuracy_score, confusion_matrix\n",
    "from sklearn import metrics"
   ]
  },
  {
   "cell_type": "markdown",
   "id": "eac4fd3a",
   "metadata": {},
   "source": [
    "## Load dataset"
   ]
  },
  {
   "cell_type": "code",
   "execution_count": 4,
   "id": "36ab2a30",
   "metadata": {},
   "outputs": [],
   "source": [
    "df = pd.read_csv(\"/home/divyasale/Downloads/Disease_Prediction.csv\")"
   ]
  },
  {
   "cell_type": "markdown",
   "id": "5b0d869c",
   "metadata": {},
   "source": [
    "## Data Preprocessing"
   ]
  },
  {
   "cell_type": "code",
   "execution_count": 5,
   "id": "03f393e6",
   "metadata": {},
   "outputs": [
    {
     "data": {
      "text/html": [
       "<div>\n",
       "<style scoped>\n",
       "    .dataframe tbody tr th:only-of-type {\n",
       "        vertical-align: middle;\n",
       "    }\n",
       "\n",
       "    .dataframe tbody tr th {\n",
       "        vertical-align: top;\n",
       "    }\n",
       "\n",
       "    .dataframe thead th {\n",
       "        text-align: right;\n",
       "    }\n",
       "</style>\n",
       "<table border=\"1\" class=\"dataframe\">\n",
       "  <thead>\n",
       "    <tr style=\"text-align: right;\">\n",
       "      <th></th>\n",
       "      <th>itching</th>\n",
       "      <th>skin_rash</th>\n",
       "      <th>nodal_skin_eruptions</th>\n",
       "      <th>continuous_sneezing</th>\n",
       "      <th>shivering</th>\n",
       "      <th>chills</th>\n",
       "      <th>joint_pain</th>\n",
       "      <th>stomach_pain</th>\n",
       "      <th>acidity</th>\n",
       "      <th>ulcers_on_tongue</th>\n",
       "      <th>...</th>\n",
       "      <th>scurring</th>\n",
       "      <th>skin_peeling</th>\n",
       "      <th>silver_like_dusting</th>\n",
       "      <th>small_dents_in_nails</th>\n",
       "      <th>inflammatory_nails</th>\n",
       "      <th>blister</th>\n",
       "      <th>red_sore_around_nose</th>\n",
       "      <th>yellow_crust_ooze</th>\n",
       "      <th>prognosis</th>\n",
       "      <th>Unnamed: 133</th>\n",
       "    </tr>\n",
       "  </thead>\n",
       "  <tbody>\n",
       "    <tr>\n",
       "      <th>0</th>\n",
       "      <td>1</td>\n",
       "      <td>1</td>\n",
       "      <td>1</td>\n",
       "      <td>0</td>\n",
       "      <td>0</td>\n",
       "      <td>0</td>\n",
       "      <td>0</td>\n",
       "      <td>0</td>\n",
       "      <td>0</td>\n",
       "      <td>0</td>\n",
       "      <td>...</td>\n",
       "      <td>0</td>\n",
       "      <td>0</td>\n",
       "      <td>0</td>\n",
       "      <td>0</td>\n",
       "      <td>0</td>\n",
       "      <td>0</td>\n",
       "      <td>0</td>\n",
       "      <td>0</td>\n",
       "      <td>Fungal infection</td>\n",
       "      <td>NaN</td>\n",
       "    </tr>\n",
       "    <tr>\n",
       "      <th>1</th>\n",
       "      <td>0</td>\n",
       "      <td>1</td>\n",
       "      <td>1</td>\n",
       "      <td>0</td>\n",
       "      <td>0</td>\n",
       "      <td>0</td>\n",
       "      <td>0</td>\n",
       "      <td>0</td>\n",
       "      <td>0</td>\n",
       "      <td>0</td>\n",
       "      <td>...</td>\n",
       "      <td>0</td>\n",
       "      <td>0</td>\n",
       "      <td>0</td>\n",
       "      <td>0</td>\n",
       "      <td>0</td>\n",
       "      <td>0</td>\n",
       "      <td>0</td>\n",
       "      <td>0</td>\n",
       "      <td>Fungal infection</td>\n",
       "      <td>NaN</td>\n",
       "    </tr>\n",
       "    <tr>\n",
       "      <th>2</th>\n",
       "      <td>1</td>\n",
       "      <td>0</td>\n",
       "      <td>1</td>\n",
       "      <td>0</td>\n",
       "      <td>0</td>\n",
       "      <td>0</td>\n",
       "      <td>0</td>\n",
       "      <td>0</td>\n",
       "      <td>0</td>\n",
       "      <td>0</td>\n",
       "      <td>...</td>\n",
       "      <td>0</td>\n",
       "      <td>0</td>\n",
       "      <td>0</td>\n",
       "      <td>0</td>\n",
       "      <td>0</td>\n",
       "      <td>0</td>\n",
       "      <td>0</td>\n",
       "      <td>0</td>\n",
       "      <td>Fungal infection</td>\n",
       "      <td>NaN</td>\n",
       "    </tr>\n",
       "    <tr>\n",
       "      <th>3</th>\n",
       "      <td>1</td>\n",
       "      <td>1</td>\n",
       "      <td>0</td>\n",
       "      <td>0</td>\n",
       "      <td>0</td>\n",
       "      <td>0</td>\n",
       "      <td>0</td>\n",
       "      <td>0</td>\n",
       "      <td>0</td>\n",
       "      <td>0</td>\n",
       "      <td>...</td>\n",
       "      <td>0</td>\n",
       "      <td>0</td>\n",
       "      <td>0</td>\n",
       "      <td>0</td>\n",
       "      <td>0</td>\n",
       "      <td>0</td>\n",
       "      <td>0</td>\n",
       "      <td>0</td>\n",
       "      <td>Fungal infection</td>\n",
       "      <td>NaN</td>\n",
       "    </tr>\n",
       "    <tr>\n",
       "      <th>4</th>\n",
       "      <td>1</td>\n",
       "      <td>1</td>\n",
       "      <td>1</td>\n",
       "      <td>0</td>\n",
       "      <td>0</td>\n",
       "      <td>0</td>\n",
       "      <td>0</td>\n",
       "      <td>0</td>\n",
       "      <td>0</td>\n",
       "      <td>0</td>\n",
       "      <td>...</td>\n",
       "      <td>0</td>\n",
       "      <td>0</td>\n",
       "      <td>0</td>\n",
       "      <td>0</td>\n",
       "      <td>0</td>\n",
       "      <td>0</td>\n",
       "      <td>0</td>\n",
       "      <td>0</td>\n",
       "      <td>Fungal infection</td>\n",
       "      <td>NaN</td>\n",
       "    </tr>\n",
       "  </tbody>\n",
       "</table>\n",
       "<p>5 rows × 134 columns</p>\n",
       "</div>"
      ],
      "text/plain": [
       "   itching  skin_rash  nodal_skin_eruptions  continuous_sneezing  shivering  \\\n",
       "0        1          1                     1                    0          0   \n",
       "1        0          1                     1                    0          0   \n",
       "2        1          0                     1                    0          0   \n",
       "3        1          1                     0                    0          0   \n",
       "4        1          1                     1                    0          0   \n",
       "\n",
       "   chills  joint_pain  stomach_pain  acidity  ulcers_on_tongue  ...  scurring  \\\n",
       "0       0           0             0        0                 0  ...         0   \n",
       "1       0           0             0        0                 0  ...         0   \n",
       "2       0           0             0        0                 0  ...         0   \n",
       "3       0           0             0        0                 0  ...         0   \n",
       "4       0           0             0        0                 0  ...         0   \n",
       "\n",
       "   skin_peeling  silver_like_dusting  small_dents_in_nails  \\\n",
       "0             0                    0                     0   \n",
       "1             0                    0                     0   \n",
       "2             0                    0                     0   \n",
       "3             0                    0                     0   \n",
       "4             0                    0                     0   \n",
       "\n",
       "   inflammatory_nails  blister  red_sore_around_nose  yellow_crust_ooze  \\\n",
       "0                   0        0                     0                  0   \n",
       "1                   0        0                     0                  0   \n",
       "2                   0        0                     0                  0   \n",
       "3                   0        0                     0                  0   \n",
       "4                   0        0                     0                  0   \n",
       "\n",
       "          prognosis  Unnamed: 133  \n",
       "0  Fungal infection           NaN  \n",
       "1  Fungal infection           NaN  \n",
       "2  Fungal infection           NaN  \n",
       "3  Fungal infection           NaN  \n",
       "4  Fungal infection           NaN  \n",
       "\n",
       "[5 rows x 134 columns]"
      ]
     },
     "execution_count": 5,
     "metadata": {},
     "output_type": "execute_result"
    }
   ],
   "source": [
    "df.head()"
   ]
  },
  {
   "cell_type": "code",
   "execution_count": 6,
   "id": "eb9a3d50",
   "metadata": {},
   "outputs": [],
   "source": [
    "#Drop Null Column\n",
    "df=df.dropna(axis=1)"
   ]
  },
  {
   "cell_type": "code",
   "execution_count": 7,
   "id": "7fc20c88",
   "metadata": {},
   "outputs": [
    {
     "data": {
      "text/html": [
       "<div>\n",
       "<style scoped>\n",
       "    .dataframe tbody tr th:only-of-type {\n",
       "        vertical-align: middle;\n",
       "    }\n",
       "\n",
       "    .dataframe tbody tr th {\n",
       "        vertical-align: top;\n",
       "    }\n",
       "\n",
       "    .dataframe thead th {\n",
       "        text-align: right;\n",
       "    }\n",
       "</style>\n",
       "<table border=\"1\" class=\"dataframe\">\n",
       "  <thead>\n",
       "    <tr style=\"text-align: right;\">\n",
       "      <th></th>\n",
       "      <th>itching</th>\n",
       "      <th>skin_rash</th>\n",
       "      <th>nodal_skin_eruptions</th>\n",
       "      <th>continuous_sneezing</th>\n",
       "      <th>shivering</th>\n",
       "      <th>chills</th>\n",
       "      <th>joint_pain</th>\n",
       "      <th>stomach_pain</th>\n",
       "      <th>acidity</th>\n",
       "      <th>ulcers_on_tongue</th>\n",
       "      <th>...</th>\n",
       "      <th>blackheads</th>\n",
       "      <th>scurring</th>\n",
       "      <th>skin_peeling</th>\n",
       "      <th>silver_like_dusting</th>\n",
       "      <th>small_dents_in_nails</th>\n",
       "      <th>inflammatory_nails</th>\n",
       "      <th>blister</th>\n",
       "      <th>red_sore_around_nose</th>\n",
       "      <th>yellow_crust_ooze</th>\n",
       "      <th>prognosis</th>\n",
       "    </tr>\n",
       "  </thead>\n",
       "  <tbody>\n",
       "    <tr>\n",
       "      <th>0</th>\n",
       "      <td>1</td>\n",
       "      <td>1</td>\n",
       "      <td>1</td>\n",
       "      <td>0</td>\n",
       "      <td>0</td>\n",
       "      <td>0</td>\n",
       "      <td>0</td>\n",
       "      <td>0</td>\n",
       "      <td>0</td>\n",
       "      <td>0</td>\n",
       "      <td>...</td>\n",
       "      <td>0</td>\n",
       "      <td>0</td>\n",
       "      <td>0</td>\n",
       "      <td>0</td>\n",
       "      <td>0</td>\n",
       "      <td>0</td>\n",
       "      <td>0</td>\n",
       "      <td>0</td>\n",
       "      <td>0</td>\n",
       "      <td>Fungal infection</td>\n",
       "    </tr>\n",
       "    <tr>\n",
       "      <th>1</th>\n",
       "      <td>0</td>\n",
       "      <td>1</td>\n",
       "      <td>1</td>\n",
       "      <td>0</td>\n",
       "      <td>0</td>\n",
       "      <td>0</td>\n",
       "      <td>0</td>\n",
       "      <td>0</td>\n",
       "      <td>0</td>\n",
       "      <td>0</td>\n",
       "      <td>...</td>\n",
       "      <td>0</td>\n",
       "      <td>0</td>\n",
       "      <td>0</td>\n",
       "      <td>0</td>\n",
       "      <td>0</td>\n",
       "      <td>0</td>\n",
       "      <td>0</td>\n",
       "      <td>0</td>\n",
       "      <td>0</td>\n",
       "      <td>Fungal infection</td>\n",
       "    </tr>\n",
       "    <tr>\n",
       "      <th>2</th>\n",
       "      <td>1</td>\n",
       "      <td>0</td>\n",
       "      <td>1</td>\n",
       "      <td>0</td>\n",
       "      <td>0</td>\n",
       "      <td>0</td>\n",
       "      <td>0</td>\n",
       "      <td>0</td>\n",
       "      <td>0</td>\n",
       "      <td>0</td>\n",
       "      <td>...</td>\n",
       "      <td>0</td>\n",
       "      <td>0</td>\n",
       "      <td>0</td>\n",
       "      <td>0</td>\n",
       "      <td>0</td>\n",
       "      <td>0</td>\n",
       "      <td>0</td>\n",
       "      <td>0</td>\n",
       "      <td>0</td>\n",
       "      <td>Fungal infection</td>\n",
       "    </tr>\n",
       "    <tr>\n",
       "      <th>3</th>\n",
       "      <td>1</td>\n",
       "      <td>1</td>\n",
       "      <td>0</td>\n",
       "      <td>0</td>\n",
       "      <td>0</td>\n",
       "      <td>0</td>\n",
       "      <td>0</td>\n",
       "      <td>0</td>\n",
       "      <td>0</td>\n",
       "      <td>0</td>\n",
       "      <td>...</td>\n",
       "      <td>0</td>\n",
       "      <td>0</td>\n",
       "      <td>0</td>\n",
       "      <td>0</td>\n",
       "      <td>0</td>\n",
       "      <td>0</td>\n",
       "      <td>0</td>\n",
       "      <td>0</td>\n",
       "      <td>0</td>\n",
       "      <td>Fungal infection</td>\n",
       "    </tr>\n",
       "    <tr>\n",
       "      <th>4</th>\n",
       "      <td>1</td>\n",
       "      <td>1</td>\n",
       "      <td>1</td>\n",
       "      <td>0</td>\n",
       "      <td>0</td>\n",
       "      <td>0</td>\n",
       "      <td>0</td>\n",
       "      <td>0</td>\n",
       "      <td>0</td>\n",
       "      <td>0</td>\n",
       "      <td>...</td>\n",
       "      <td>0</td>\n",
       "      <td>0</td>\n",
       "      <td>0</td>\n",
       "      <td>0</td>\n",
       "      <td>0</td>\n",
       "      <td>0</td>\n",
       "      <td>0</td>\n",
       "      <td>0</td>\n",
       "      <td>0</td>\n",
       "      <td>Fungal infection</td>\n",
       "    </tr>\n",
       "  </tbody>\n",
       "</table>\n",
       "<p>5 rows × 133 columns</p>\n",
       "</div>"
      ],
      "text/plain": [
       "   itching  skin_rash  nodal_skin_eruptions  continuous_sneezing  shivering  \\\n",
       "0        1          1                     1                    0          0   \n",
       "1        0          1                     1                    0          0   \n",
       "2        1          0                     1                    0          0   \n",
       "3        1          1                     0                    0          0   \n",
       "4        1          1                     1                    0          0   \n",
       "\n",
       "   chills  joint_pain  stomach_pain  acidity  ulcers_on_tongue  ...  \\\n",
       "0       0           0             0        0                 0  ...   \n",
       "1       0           0             0        0                 0  ...   \n",
       "2       0           0             0        0                 0  ...   \n",
       "3       0           0             0        0                 0  ...   \n",
       "4       0           0             0        0                 0  ...   \n",
       "\n",
       "   blackheads  scurring  skin_peeling  silver_like_dusting  \\\n",
       "0           0         0             0                    0   \n",
       "1           0         0             0                    0   \n",
       "2           0         0             0                    0   \n",
       "3           0         0             0                    0   \n",
       "4           0         0             0                    0   \n",
       "\n",
       "   small_dents_in_nails  inflammatory_nails  blister  red_sore_around_nose  \\\n",
       "0                     0                   0        0                     0   \n",
       "1                     0                   0        0                     0   \n",
       "2                     0                   0        0                     0   \n",
       "3                     0                   0        0                     0   \n",
       "4                     0                   0        0                     0   \n",
       "\n",
       "   yellow_crust_ooze         prognosis  \n",
       "0                  0  Fungal infection  \n",
       "1                  0  Fungal infection  \n",
       "2                  0  Fungal infection  \n",
       "3                  0  Fungal infection  \n",
       "4                  0  Fungal infection  \n",
       "\n",
       "[5 rows x 133 columns]"
      ]
     },
     "execution_count": 7,
     "metadata": {},
     "output_type": "execute_result"
    }
   ],
   "source": [
    "df.head()"
   ]
  },
  {
   "cell_type": "code",
   "execution_count": 8,
   "id": "5b9a0b38",
   "metadata": {},
   "outputs": [
    {
     "data": {
      "text/plain": [
       "654360"
      ]
     },
     "execution_count": 8,
     "metadata": {},
     "output_type": "execute_result"
    }
   ],
   "source": [
    "df.size"
   ]
  },
  {
   "cell_type": "code",
   "execution_count": 9,
   "id": "9bc3b63b",
   "metadata": {},
   "outputs": [
    {
     "data": {
      "text/plain": [
       "(4920, 133)"
      ]
     },
     "execution_count": 9,
     "metadata": {},
     "output_type": "execute_result"
    }
   ],
   "source": [
    "df.shape"
   ]
  },
  {
   "cell_type": "code",
   "execution_count": 10,
   "id": "d548fdbf",
   "metadata": {},
   "outputs": [
    {
     "data": {
      "text/plain": [
       "Index(['itching', 'skin_rash', 'nodal_skin_eruptions', 'continuous_sneezing',\n",
       "       'shivering', 'chills', 'joint_pain', 'stomach_pain', 'acidity',\n",
       "       'ulcers_on_tongue',\n",
       "       ...\n",
       "       'blackheads', 'scurring', 'skin_peeling', 'silver_like_dusting',\n",
       "       'small_dents_in_nails', 'inflammatory_nails', 'blister',\n",
       "       'red_sore_around_nose', 'yellow_crust_ooze', 'prognosis'],\n",
       "      dtype='object', length=133)"
      ]
     },
     "execution_count": 10,
     "metadata": {},
     "output_type": "execute_result"
    }
   ],
   "source": [
    "df.columns"
   ]
  },
  {
   "cell_type": "code",
   "execution_count": 11,
   "id": "26e0bacc",
   "metadata": {},
   "outputs": [],
   "source": [
    "# Encoding the target value into numerical value using LabelEncoder\n",
    "encoder = LabelEncoder()\n",
    "df[\"prognosis\"] = encoder.fit_transform(df[\"prognosis\"])"
   ]
  },
  {
   "cell_type": "code",
   "execution_count": 12,
   "id": "f155d203",
   "metadata": {},
   "outputs": [
    {
     "data": {
      "image/png": "[encoded data removed]",
      "text/plain": [
       "<Figure size 1296x576 with 1 Axes>"
      ]
     },
     "metadata": {
      "needs_background": "light"
     },
     "output_type": "display_data"
    }
   ],
   "source": [
    "#Lets see data is Balanced or not\n",
    "disease_counts = df[\"prognosis\"].value_counts()\n",
    "temp_df = pd.DataFrame({\n",
    "    \"Disease\": disease_counts.index,\n",
    "    \"Counts\": disease_counts.values\n",
    "})\n",
    " \n",
    "plt.figure(figsize = (18,8))\n",
    "sns.barplot(x = \"Disease\", y = \"Counts\", data = temp_df)\n",
    "plt.title(\"Disease Prediction\")\n",
    "plt.xticks(rotation=90)\n",
    "plt.show()"
   ]
  },
  {
   "cell_type": "markdown",
   "id": "8ae6b016",
   "metadata": {},
   "source": [
    "## Divide Data"
   ]
  },
  {
   "cell_type": "code",
   "execution_count": 13,
   "id": "a97b893c",
   "metadata": {},
   "outputs": [],
   "source": [
    "X = df.iloc[:,:-1]\n",
    "y= df.iloc[:, -1]"
   ]
  },
  {
   "cell_type": "code",
   "execution_count": 14,
   "id": "a5248aee",
   "metadata": {},
   "outputs": [],
   "source": [
    "#Divide data into training and testing\n",
    "X_train,X_test,y_train,y_test = train_test_split(X,y,test_size=0.2)"
   ]
  },
  {
   "cell_type": "code",
   "execution_count": 15,
   "id": "914d7bd9",
   "metadata": {},
   "outputs": [
    {
     "name": "stdout",
     "output_type": "stream",
     "text": [
      "(4920, 133)\n",
      "(3936, 132)\n",
      "(3936,)\n",
      "(984, 132)\n",
      "(984,)\n"
     ]
    }
   ],
   "source": [
    "print(df.shape)\n",
    "print(X_train.shape)\n",
    "print(y_train.shape)\n",
    "print(X_test.shape)\n",
    "print(y_test.shape)"
   ]
  },
  {
   "cell_type": "markdown",
   "id": "6a0a6150",
   "metadata": {},
   "source": [
    "## Build SVM Model"
   ]
  },
  {
   "cell_type": "code",
   "execution_count": 16,
   "id": "63ea7c20",
   "metadata": {},
   "outputs": [
    {
     "data": {
      "text/plain": [
       "SVC()"
      ]
     },
     "execution_count": 16,
     "metadata": {},
     "output_type": "execute_result"
    }
   ],
   "source": [
    "svm_model = SVC()\n",
    "svm_model.fit(X_train, y_train)"
   ]
  },
  {
   "cell_type": "code",
   "execution_count": 17,
   "id": "5cc3e896",
   "metadata": {},
   "outputs": [],
   "source": [
    "y_pred = svm_model.predict(X_test)"
   ]
  },
  {
   "cell_type": "code",
   "execution_count": 18,
   "id": "acec5573",
   "metadata": {},
   "outputs": [
    {
     "data": {
      "text/plain": [
       "array([ 7, 27, 28, 34, 11, 14, 28, 35, 16, 36, 29, 24, 29, 22, 37,  6,  9,\n",
       "       21,  4, 27, 17, 27, 36, 24, 33,  7, 26, 17,  8, 10, 26, 13, 16,  0,\n",
       "       30,  3, 33, 19, 27, 24, 21, 18,  5,  2,  2, 27, 16, 35,  8, 17, 38,\n",
       "        2, 32,  9, 36,  4, 28, 18, 28, 12, 22, 30, 36, 26, 23,  7, 37, 23,\n",
       "       30, 27, 10, 24, 32, 35, 10,  1, 35, 30, 29, 18, 24, 11,  7, 23, 39,\n",
       "       30,  8, 22, 18, 19,  5, 23, 40,  4,  7, 21, 16, 30, 35, 29, 27, 21,\n",
       "       25, 35, 30,  3,  7, 13, 35, 16,  0, 37,  0, 34, 15, 36,  7,  5,  5,\n",
       "       31, 37, 27, 37, 27, 35, 27, 26, 37, 27, 28, 34, 20, 29,  3, 31, 31,\n",
       "        2, 39,  7, 40, 18, 36, 17, 26, 17, 18, 24, 26, 10, 26,  8, 32, 31,\n",
       "       10, 39, 20,  1,  2, 12, 27,  9, 17, 25, 37, 33, 20, 16, 32,  5, 16,\n",
       "       40,  0,  0, 31, 26, 19, 12, 14, 19, 25,  5, 17, 10,  9,  0, 17, 36,\n",
       "       27, 12,  1,  9, 12, 35,  7, 18, 18, 40,  4, 39, 29,  5, 35, 30, 20,\n",
       "       15, 17, 24,  5, 15, 16, 12, 37,  6,  9,  9,  6,  8, 36, 21, 17, 30,\n",
       "       23, 38,  4, 21, 25, 36, 36,  6,  7, 16, 18, 34, 22, 40,  8, 40, 23,\n",
       "       28, 34, 38, 27, 16, 20, 28, 24,  2, 14, 38, 20, 32, 20, 13, 40,  2,\n",
       "       10, 21, 21, 27, 13,  4,  4, 24, 34,  4, 35, 11, 29,  2, 40, 16,  1,\n",
       "        8, 29, 34,  6, 24, 37, 38, 36, 35, 15,  8,  1,  1, 37,  1, 40,  7,\n",
       "       13, 38, 35,  4, 37, 21, 15,  1,  0, 27, 38, 37, 30,  6, 20,  1, 33,\n",
       "       15, 34, 39, 30, 19, 28, 30, 10, 14,  8,  3, 30,  1, 33, 10, 16, 23,\n",
       "       14, 23, 28, 14,  1, 11, 35,  9, 14, 19, 15,  2, 27,  6, 36, 33, 13,\n",
       "       31, 20, 26,  9, 15, 10, 36, 33,  2, 25, 34, 37, 34, 33, 12, 20,  3,\n",
       "       28, 22,  1, 23, 29, 17, 26, 36, 27, 27, 25, 28, 24,  3, 30,  1,  7,\n",
       "       26, 30, 32, 29, 25,  3, 37,  2, 29, 22, 26, 31, 26, 32, 26, 11,  4,\n",
       "        4,  5,  5, 38, 29,  6,  9, 10, 15,  3, 23, 18, 40,  3, 30,  7, 21,\n",
       "       11, 38, 10, 31, 15, 36, 36, 14, 17, 39, 23, 34, 21,  3,  4, 37, 18,\n",
       "       21, 32, 15, 19, 39, 30, 31,  2,  4, 20, 35,  6, 16, 38, 22, 19,  5,\n",
       "        0, 35, 18, 23,  9,  8, 32, 19, 17, 28, 32,  1, 10, 36, 28, 31,  1,\n",
       "       20, 36, 11, 18, 30, 39,  0, 37, 13,  9,  2,  5,  1,  0,  8, 22, 14,\n",
       "       23, 39, 38,  8, 16,  2, 33, 14, 38, 17,  9, 34, 16, 31, 17, 40, 12,\n",
       "       39,  6, 13, 39,  1, 16, 39, 39,  0, 35,  5,  1, 13, 37, 18, 18, 36,\n",
       "       16, 10, 25, 21, 26, 12, 33, 10, 37, 16, 13,  5, 28,  5, 28, 11, 33,\n",
       "       35, 33,  5,  9, 12, 21, 27, 34, 39, 37, 14, 30, 27,  2,  7, 22, 11,\n",
       "       24,  2,  5, 29,  9,  9, 25,  7, 18, 26, 12,  0,  8, 25, 35, 16, 38,\n",
       "       39,  5, 19, 11,  4,  5, 25, 21, 30, 17, 31, 16, 30, 33, 11,  8, 34,\n",
       "       14,  0,  4,  7, 38, 31, 15, 22,  4,  2, 19,  8, 35, 12, 19,  0,  3,\n",
       "       15, 39, 11, 20, 10,  6, 39,  4,  6, 36, 26, 17,  6, 25, 34, 24,  7,\n",
       "        1, 33,  5, 28, 37, 28, 34, 35, 30, 16, 10, 14, 24,  9, 16, 37, 24,\n",
       "       31, 17, 25, 21, 29,  4, 15,  6, 37,  4, 39, 33,  1,  5, 19,  6, 23,\n",
       "       21,  6,  0,  0,  2, 31, 35, 22, 25, 29, 22, 11, 39,  4, 26, 21, 23,\n",
       "       21, 40, 26, 36,  2, 26, 14, 34, 40, 33,  8, 35,  4,  2, 37, 36,  4,\n",
       "       19, 32, 27,  8, 34, 19, 29,  7, 22, 30,  2, 35, 11, 36, 12,  3, 30,\n",
       "        2, 24,  1, 16,  6, 26, 21, 19, 26, 18, 28, 18, 20, 13, 35,  2,  3,\n",
       "       12, 39,  7,  5,  9, 12, 34, 35, 34, 36, 23, 18, 13, 30,  0, 17, 21,\n",
       "       26,  6,  5, 27, 27, 19, 16, 37, 38,  0, 26,  1, 16, 11, 36, 19, 10,\n",
       "       39, 40, 21, 27,  3,  4, 18, 38, 19, 30, 23, 13, 15, 22, 18,  2,  0,\n",
       "       39, 24, 34,  8, 38, 16, 18, 19, 12,  9, 35,  1,  1, 14,  5, 15, 20,\n",
       "        1,  0,  3, 23, 13, 26, 21, 28,  3,  8, 30, 28, 35, 38, 12,  6, 18,\n",
       "        1, 17, 40,  7, 33, 11, 25, 21, 25, 23, 29, 21,  9, 36,  2,  7, 25,\n",
       "       34, 21, 31, 12, 18,  5, 35, 11, 31, 38, 11, 21, 37,  0, 20, 36,  4,\n",
       "       21, 36, 40, 22,  2, 10,  9, 40, 13, 22, 34, 18, 36, 40, 24, 37, 17,\n",
       "        4, 22, 13, 32, 13,  5, 36, 31,  1, 19, 34, 12,  6, 36, 15, 14, 19,\n",
       "       39,  1,  0, 29, 19, 21, 14, 40, 20, 20, 30, 20, 31, 24, 28, 10, 11,\n",
       "        8, 22,  5, 30, 30, 13,  6, 16, 24,  0, 23, 27, 32, 21,  6, 25, 29,\n",
       "       33,  0, 33,  1,  5, 18,  2,  7, 27, 36, 21, 18, 34, 24,  8,  3, 32,\n",
       "        5, 37, 25, 26, 12, 21, 32,  5,  7, 18, 10, 10,  5,  1, 35, 28, 14,\n",
       "       11, 22, 11, 34, 20,  3, 27, 19,  6,  2, 26, 22,  2, 34, 14, 34, 17,\n",
       "       11, 22, 24, 31, 21, 20,  4, 16,  0, 14,  4, 34, 31,  6, 31,  4,  2,\n",
       "        0, 15, 19,  9, 23, 26, 16,  3, 35, 17, 16,  2,  2, 14, 32])"
      ]
     },
     "execution_count": 18,
     "metadata": {},
     "output_type": "execute_result"
    }
   ],
   "source": [
    "y_pred"
   ]
  },
  {
   "cell_type": "markdown",
   "id": "aa989b03",
   "metadata": {},
   "source": [
    "## Evaluate the Model"
   ]
  },
  {
   "cell_type": "code",
   "execution_count": 19,
   "id": "be6edaee",
   "metadata": {},
   "outputs": [
    {
     "name": "stdout",
     "output_type": "stream",
     "text": [
      "SVM_Model accuracy: 1.0\n"
     ]
    }
   ],
   "source": [
    "#Accuracy Score\n",
    "print(\"SVM_Model accuracy:\",metrics.accuracy_score(y_pred,y_test))"
   ]
  },
  {
   "cell_type": "code",
   "execution_count": 20,
   "id": "ecab0b66",
   "metadata": {},
   "outputs": [
    {
     "name": "stdout",
     "output_type": "stream",
     "text": [
      "SVM_Model precision: 1.0\n"
     ]
    }
   ],
   "source": [
    "#Precision Score\n",
    "print(\"SVM_Model precision:\",metrics.precision_score(y_pred,y_test,average='micro'))"
   ]
  },
  {
   "cell_type": "code",
   "execution_count": 21,
   "id": "a5f8603d",
   "metadata": {},
   "outputs": [
    {
     "name": "stdout",
     "output_type": "stream",
     "text": [
      "SVM_Model recall: 1.0\n"
     ]
    }
   ],
   "source": [
    "#Recall Score\n",
    "print(\"SVM_Model recall:\",metrics.recall_score(y_pred,y_test,average='micro'))"
   ]
  },
  {
   "cell_type": "code",
   "execution_count": 22,
   "id": "4c5309cc",
   "metadata": {},
   "outputs": [],
   "source": [
    "final_preds = [mode([i])[0][0] for i in zip(y_pred)]"
   ]
  },
  {
   "cell_type": "code",
   "execution_count": 23,
   "id": "0dbec418",
   "metadata": {},
   "outputs": [],
   "source": [
    "symptoms = X.columns.values\n",
    "# Creating a symptom index dictionary to encode the input symptoms into numerical form\n",
    "symptom_index = {}\n",
    "for index, value in enumerate(symptoms):\n",
    "    symptom = \" \".join([i.capitalize() for i in value.split(\"_\")])\n",
    "    symptom_index[symptom] = index\n",
    " \n",
    "data_dict = {\n",
    "    \"symptom_index\":symptom_index,\n",
    "    \"predictions_classes\":encoder.classes_\n",
    "}"
   ]
  },
  {
   "cell_type": "code",
   "execution_count": 24,
   "id": "07f0ba8d",
   "metadata": {},
   "outputs": [],
   "source": [
    "# Defining the Function\n",
    "# Input: string containing symptoms separated by commmas\n",
    "# Output: Generated predictions by models\n",
    "def predictDisease(symptoms):\n",
    "    symptoms = symptoms.split(\",\")\n",
    "     \n",
    "    # creating input data for the models\n",
    "    input_data = [0] * len(data_dict[\"symptom_index\"])\n",
    "    for symptom in symptoms:\n",
    "        index = data_dict[\"symptom_index\"][symptom]\n",
    "        input_data[index] = 1\n",
    "         \n",
    "    # reshaping the input data and converting it\n",
    "    # into suitable format for model predictions\n",
    "    input_data = np.array(input_data).reshape(1,-1)\n",
    "     \n",
    "    # generating individual outputs\n",
    "    svm_prediction = data_dict[\"predictions_classes\"][svm_model.predict(input_data)[0]]\n",
    "     \n",
    "    # making final prediction by taking mode of all predictions\n",
    "    final_prediction = mode([svm_prediction])[0][0]\n",
    "    predictions = {\n",
    "        \n",
    "        \"final_prediction\":final_prediction\n",
    "    }\n",
    "    return predictions\n"
   ]
  },
  {
   "cell_type": "code",
   "execution_count": 25,
   "id": "adc6f90c",
   "metadata": {},
   "outputs": [
    {
     "name": "stdout",
     "output_type": "stream",
     "text": [
      "{'final_prediction': 'Fungal infection'}\n"
     ]
    }
   ],
   "source": [
    "# Testing the function\n",
    "print(predictDisease(\"Itching,Skin Rash,Nodal Skin Eruptions,Dischromic  Patches\"))"
   ]
  },
  {
   "cell_type": "code",
   "execution_count": 26,
   "id": "f1993efe",
   "metadata": {},
   "outputs": [
    {
     "name": "stdout",
     "output_type": "stream",
     "text": [
      "{'final_prediction': 'GERD'}\n"
     ]
    }
   ],
   "source": [
    "print(predictDisease(\"Stomach Pain,Acidity,Ulcers On Tongue,Vomiting\"))"
   ]
  },
  {
   "cell_type": "code",
   "execution_count": null,
   "id": "02fc490e",
   "metadata": {},
   "outputs": [],
   "source": []
  }
 ],
 "metadata": {
  "kernelspec": {
   "display_name": "Python 3 (ipykernel)",
   "language": "python",
   "name": "python3"
  },
  "language_info": {
   "codemirror_mode": {
    "name": "ipython",
    "version": 3
   },
   "file_extension": ".py",
   "mimetype": "text/x-python",
   "name": "python",
   "nbconvert_exporter": "python",
   "pygments_lexer": "ipython3",
   "version": "3.9.7"
  }
 },
 "nbformat": 4,
 "nbformat_minor": 5
}
